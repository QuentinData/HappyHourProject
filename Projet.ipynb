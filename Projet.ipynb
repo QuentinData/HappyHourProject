{
 "cells": [
  {
   "cell_type": "markdown",
   "metadata": {},
   "source": [
    "## Importation des librairie"
   ]
  },
  {
   "cell_type": "code",
   "execution_count": 1,
   "metadata": {},
   "outputs": [],
   "source": [
    "# librairie gestion des données\n",
    "\n",
    "import pandas as pd\n",
    "\n",
    "# librairie scraping\n",
    "\n",
    "import requests\n",
    "from bs4 import BeautifulSoup\n",
    "import re\n",
    "\n",
    "# librairie envoi du mail\n",
    "\n",
    "from mailtrap import Mail, Address, MailtrapClient\n",
    "\n",
    "# librairie interne\n",
    "\n",
    "import analysis\n",
    "import scraping\n",
    "import email_report"
   ]
  },
  {
   "cell_type": "markdown",
   "metadata": {},
   "source": [
    "## PARTIE 2"
   ]
  },
  {
   "cell_type": "code",
   "execution_count": 2,
   "metadata": {},
   "outputs": [
    {
     "ename": "NameError",
     "evalue": "name 'extract_bar_links' is not defined",
     "output_type": "error",
     "traceback": [
      "\u001b[1;31m---------------------------------------------------------------------------\u001b[0m",
      "\u001b[1;31mNameError\u001b[0m                                 Traceback (most recent call last)",
      "\u001b[1;32m~\\AppData\\Local\\Temp/ipykernel_13060/3069680480.py\u001b[0m in \u001b[0;36m<module>\u001b[1;34m\u001b[0m\n\u001b[0;32m      8\u001b[0m \u001b[0mall_links\u001b[0m \u001b[1;33m=\u001b[0m \u001b[1;33m[\u001b[0m\u001b[1;33m]\u001b[0m\u001b[1;33m\u001b[0m\u001b[1;33m\u001b[0m\u001b[0m\n\u001b[0;32m      9\u001b[0m \u001b[1;32mfor\u001b[0m \u001b[0murl_page\u001b[0m \u001b[1;32min\u001b[0m \u001b[0murls_pages\u001b[0m\u001b[1;33m:\u001b[0m\u001b[1;33m\u001b[0m\u001b[1;33m\u001b[0m\u001b[0m\n\u001b[1;32m---> 10\u001b[1;33m     \u001b[0mbar_links\u001b[0m \u001b[1;33m=\u001b[0m \u001b[0mextract_bar_links\u001b[0m\u001b[1;33m(\u001b[0m\u001b[0murl_page\u001b[0m\u001b[1;33m)\u001b[0m\u001b[1;33m\u001b[0m\u001b[1;33m\u001b[0m\u001b[0m\n\u001b[0m\u001b[0;32m     11\u001b[0m     \u001b[0mall_links\u001b[0m\u001b[1;33m.\u001b[0m\u001b[0mextend\u001b[0m\u001b[1;33m(\u001b[0m\u001b[0mbar_links\u001b[0m\u001b[1;33m)\u001b[0m\u001b[1;33m\u001b[0m\u001b[1;33m\u001b[0m\u001b[0m\n\u001b[0;32m     12\u001b[0m \u001b[1;33m\u001b[0m\u001b[0m\n",
      "\u001b[1;31mNameError\u001b[0m: name 'extract_bar_links' is not defined"
     ]
    }
   ],
   "source": [
    "# List of URLs of pages containing bar links\n",
    "urls_pages = [\n",
    "    \"https://www.schlouk-map.com/fr/cities/toulouse/happy-hour\",\n",
    "    \"https://www.schlouk-map.com/fr/cities/toulouse/happy-hour?page=2\"\n",
    "]\n",
    "\n",
    "# Extracting bar links\n",
    "all_links = []\n",
    "for url_page in urls_pages:\n",
    "    bar_links = extract_bar_links(url_page)\n",
    "    all_links.extend(bar_links)\n",
    "\n",
    "# Extracting information of each bar\n",
    "all_bars_info = []\n",
    "for link in all_links:\n",
    "    full_url = \"https://www.schlouk-map.com\" + link\n",
    "    bar_info = extract_bar_info(full_url)\n",
    "    all_bars_info.append(bar_info)\n",
    "\n",
    "# Extracting bar names and prices of happy hours\n",
    "noms_bars, prix_happy_hours = extract_prices_and_links(urls_pages)\n",
    "\n",
    "# Creating DataFrame\n",
    "df = create_dataframe(all_bars_info, noms_bars, all_links)\n",
    "\n",
    "df"
   ]
  },
  {
   "cell_type": "markdown",
   "metadata": {},
   "source": [
    "## PARTIE 2"
   ]
  },
  {
   "cell_type": "code",
   "execution_count": 8,
   "metadata": {},
   "outputs": [
    {
     "ename": "NameError",
     "evalue": "name 'clean_and_sort_dataframe' is not defined",
     "output_type": "error",
     "traceback": [
      "\u001b[1;31m---------------------------------------------------------------------------\u001b[0m",
      "\u001b[1;31mNameError\u001b[0m                                 Traceback (most recent call last)",
      "\u001b[1;32m~\\AppData\\Local\\Temp/ipykernel_19696/1763774844.py\u001b[0m in \u001b[0;36m<module>\u001b[1;34m\u001b[0m\n\u001b[0;32m      1\u001b[0m \u001b[1;31m# Cleaning and sorting DataFrame\u001b[0m\u001b[1;33m\u001b[0m\u001b[1;33m\u001b[0m\u001b[0m\n\u001b[1;32m----> 2\u001b[1;33m \u001b[0mdf_lim\u001b[0m \u001b[1;33m=\u001b[0m \u001b[0mclean_and_sort_dataframe\u001b[0m\u001b[1;33m(\u001b[0m\u001b[0mdf\u001b[0m\u001b[1;33m)\u001b[0m\u001b[1;33m\u001b[0m\u001b[1;33m\u001b[0m\u001b[0m\n\u001b[0m\u001b[0;32m      3\u001b[0m \u001b[1;33m\u001b[0m\u001b[0m\n\u001b[0;32m      4\u001b[0m \u001b[0mdf_lim\u001b[0m\u001b[1;33m\u001b[0m\u001b[1;33m\u001b[0m\u001b[0m\n",
      "\u001b[1;31mNameError\u001b[0m: name 'clean_and_sort_dataframe' is not defined"
     ]
    }
   ],
   "source": [
    "# Cleaning and sorting DataFrame\n",
    "df_lim = clean_and_sort_dataframe(df)\n",
    "\n",
    "df_lim"
   ]
  },
  {
   "cell_type": "markdown",
   "metadata": {},
   "source": [
    "## PARTIE 3"
   ]
  },
  {
   "cell_type": "code",
   "execution_count": null,
   "metadata": {},
   "outputs": [],
   "source": [
    "# Top 5 bars data\n",
    "top_bars = [\n",
    "    {'Nom': 'Chez Tonton', 'Adresse': '16 Place Saint-Pierre, 31000 Toulouse', 'Prix Happy Hour': 2.6, 'Prix Normal': 3.5, 'Économie': 1.1},\n",
    "    {'Nom': '1862 Artybar', 'Adresse': '24 Rue Nicolas Bachelier, 31000 Toulouse', 'Prix Happy Hour': 3.0, 'Prix Normal': 6.0, 'Économie': 3.0},\n",
    "    {'Nom': 'Le Petit Voisin', 'Adresse': '37 Rue Peyrolières, 31000 Toulouse', 'Prix Happy Hour': 3.0, 'Prix Normal': 4.0, 'Économie': 1.0},\n",
    "    {'Nom': 'MAD (Meet And Drink)', 'Adresse': '4 Allées Charles de Fitte, 31300 Toulouse', 'Prix Happy Hour': 3.0, 'Prix Normal': 5.0, 'Économie': 2.0},\n",
    "    {'Nom': 'Matabiau Décapsule Club', 'Adresse': '74 Rue Matabiau, 31000 Toulouse', 'Prix Happy Hour': 3.7, 'Prix Normal': 4.9, 'Économie': 1.2}\n",
    "]\n",
    "\n",
    "# Generate HTML content\n",
    "html_content = generate_html_content(top_bars)\n",
    "\n",
    "# Send email with HTML content\n",
    "send_email(html_content)"
   ]
  },
  {
   "cell_type": "code",
   "execution_count": null,
   "metadata": {},
   "outputs": [],
   "source": [
    "# Initialize the MailtrapClient with your API token\n",
    "client = MailtrapClient(token=\"f3b3ea01363168e39f8be6c2130482ef\")\n",
    "\n",
    "# Send the email\n",
    "client.send(mail)\n",
    "\n",
    "print(\"HTML email sent successfully.\")"
   ]
  }
 ],
 "metadata": {
  "kernelspec": {
   "display_name": "Python 3 (ipykernel)",
   "language": "python",
   "name": "python3"
  },
  "language_info": {
   "codemirror_mode": {
    "name": "ipython",
    "version": 3
   },
   "file_extension": ".py",
   "mimetype": "text/x-python",
   "name": "python",
   "nbconvert_exporter": "python",
   "pygments_lexer": "ipython3",
   "version": "3.9.7"
  }
 },
 "nbformat": 4,
 "nbformat_minor": 2
}
